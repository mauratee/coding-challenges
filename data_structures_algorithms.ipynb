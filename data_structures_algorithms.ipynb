{
 "cells": [
  {
   "cell_type": "markdown",
   "source": [
    "## Data Structures: Arrays/Lists"
   ],
   "metadata": {}
  },
  {
   "cell_type": "markdown",
   "source": [
    "### Maximum Sub Array:\n",
    "\n",
    "Given an integer array nums, find the contiguous subarray (containing at least one number) which has the largest sum and return its sum.\n",
    "\n",
    "A subarray is a contiguous part of an array.\n",
    "\n",
    " \n",
    "Example 1:\n",
    "\n",
    "Input: nums = [-2,1,-3,4,-1,2,1,-5,4]\n",
    "Output: 6\n",
    "Explanation: [4,-1,2,1] has the largest sum = 6.\n",
    "\n",
    "Example 2:\n",
    "\n",
    "Input: nums = [1]\n",
    "Output: 1\n",
    "\n",
    "Example 3:\n",
    "\n",
    "Input: nums = [5,4,-1,7,8]\n",
    "Output: 23\n"
   ],
   "metadata": {}
  },
  {
   "cell_type": "code",
   "execution_count": null,
   "source": [
    "\n",
    "\n",
    "def maxSubArray(nums):\n",
    "    if not nums:\n",
    "        return 0\n",
    "    \n",
    "    if len(nums) < 2:\n",
    "        return nums[0]\n",
    "\n",
    "    sum_nums = sum(nums)\n",
    "\n",
    "    def helper(left, right):\n",
    "        if \n"
   ],
   "outputs": [],
   "metadata": {}
  },
  {
   "cell_type": "markdown",
   "source": [
    "## Data Structures: Hash Tables"
   ],
   "metadata": {}
  },
  {
   "cell_type": "markdown",
   "source": [
    "Runtime for hash tables is usually O(1) but can be O(n) since they are unordered and multiple items can be inserted into same memory space, creating a linked list type of structure."
   ],
   "metadata": {}
  },
  {
   "cell_type": "code",
   "execution_count": 33,
   "source": [
    "# Implement a hash table in Python, Python built-in hash table is a dictionary but don't use dictionary\n",
    "\n",
    "class hash_table():\n",
    "\n",
    "    def __init__(self, size):\n",
    "        self.size = size\n",
    "        self.data = [None]* self.size\n",
    "\n",
    "    def __str__(self):\n",
    "        return str(self.__dict__)\n",
    "\n",
    "    def _hash(self, key):\n",
    "        hash = 0\n",
    "        # print(f\"key = {key}\")\n",
    "        for i in range(len(key)):\n",
    "            # print(f\"i = {i}\")\n",
    "            hash = (hash + ord(key[i])*i) % self.size # uses ord() to take in each letter of string and return Unicode point (an integer) for that character\n",
    "        return hash\n",
    "    \n",
    "    def get(self, key):\n",
    "        hash = self._hash(key)\n",
    "        # print(f\"hash = {hash}\")\n",
    "        if self.data[hash]:\n",
    "            for i in range(len(self.data[hash])):\n",
    "                if self.data[hash][i][0] == key:\n",
    "                    return self.data[hash][i][1]\n",
    "        return None\n",
    "\n",
    "    def _set(self, key, value):\n",
    "        hash = self._hash(key)\n",
    "        if not self.data[hash]:\n",
    "            self.data[hash] = [[key, value]]\n",
    "        else:\n",
    "            self.data[hash].append([key, value])\n",
    "        # print(self.data)\n",
    "    \n",
    "    def keys(self):\n",
    "        keys_array = []\n",
    "        for i in range(self.size):\n",
    "            if self.data[i]:\n",
    "                if len(self.data[i]) > 1:\n",
    "                    for j in range(len(self.data[i])):\n",
    "                        keys_array.append(self.data[i][j][0])\n",
    "                else:\n",
    "                    keys_array.append(self.data[i][0][0])\n",
    "        return keys_array\n",
    "\n",
    "\n",
    "new_hash = hash_table(2)\n",
    "print(new_hash)\n",
    "new_hash._set('one', 1)\n",
    "new_hash._set('two', 2)\n",
    "new_hash._set('three', 3)\n",
    "new_hash._set('four', 4)\n",
    "new_hash._set('five', 5)\n",
    "print(new_hash)\n",
    "\n",
    "print(new_hash.get('one'))\n",
    "\n",
    "print(new_hash.keys())\n"
   ],
   "outputs": [
    {
     "output_type": "stream",
     "name": "stdout",
     "text": [
      "{'size': 2, 'data': [None, None]}\n",
      "{'size': 2, 'data': [[['one', 1], ['five', 5]], [['two', 2], ['three', 3], ['four', 4]]]}\n",
      "1\n",
      "['one', 'five', 'two', 'three', 'four']\n"
     ]
    }
   ],
   "metadata": {}
  },
  {
   "cell_type": "code",
   "execution_count": 16,
   "source": [
    "# example from Stack Overflow of __dict__ method containing all attributes of an object, in this case, classes\n",
    "\n",
    "def func():\n",
    "    pass\n",
    "\n",
    "func.temp = 1\n",
    "\n",
    "print(func.__dict__)\n",
    "\n",
    "class TempClass:\n",
    "    a = 1\n",
    "    def temp_function(self):\n",
    "        pass\n",
    "\n",
    "print(TempClass.__dict__)"
   ],
   "outputs": [
    {
     "output_type": "stream",
     "name": "stdout",
     "text": [
      "{'temp': 1}\n",
      "{'__module__': '__main__', 'a': 1, 'temp_function': <function TempClass.temp_function at 0x7f7774c14700>, '__dict__': <attribute '__dict__' of 'TempClass' objects>, '__weakref__': <attribute '__weakref__' of 'TempClass' objects>, '__doc__': None}\n"
     ]
    }
   ],
   "metadata": {}
  },
  {
   "cell_type": "code",
   "execution_count": 42,
   "source": [
    "# First Recurring Character Problem\n",
    "\n",
    "# Given an array = [2,5,1,2,3,5,1,2,4]:\n",
    "# It should return 2\n",
    "\n",
    "# Given an array = [2,1,1,2,3,5,1,2,4]:\n",
    "# It should return 1\n",
    "\n",
    "# Given an array = [2,3,4,5]:\n",
    "# It should return undefined\n",
    "\n",
    "# Bonus... What if we had this:\n",
    "# [2,5,5,2,3,5,1,2,4]\n",
    "# return 5 because the pairs are before 2,2\n",
    "\n",
    "\n",
    "def first_recurring_char(ar):\n",
    "    array_dict = {}\n",
    "\n",
    "    for num in ar:\n",
    "        if num in array_dict:\n",
    "            return num\n",
    "        else:\n",
    "            array_dict[num] = True\n",
    "    \n",
    "    return None\n",
    "\n",
    "print(first_recurring_char([2,5,1,2,3,5,1,2,4]))\n",
    "print(first_recurring_char([2,1,1,2,3,5,1,2,4]))\n",
    "print(first_recurring_char([2,3,4,5]))\n",
    "print(first_recurring_char([2,5,5,2,3,5,1,2,4]))"
   ],
   "outputs": [
    {
     "output_type": "stream",
     "name": "stdout",
     "text": [
      "2\n",
      "1\n",
      "None\n",
      "5\n"
     ]
    }
   ],
   "metadata": {}
  }
 ],
 "metadata": {
  "orig_nbformat": 4,
  "language_info": {
   "name": "python",
   "version": "3.9.5",
   "mimetype": "text/x-python",
   "codemirror_mode": {
    "name": "ipython",
    "version": 3
   },
   "pygments_lexer": "ipython3",
   "nbconvert_exporter": "python",
   "file_extension": ".py"
  },
  "kernelspec": {
   "name": "python3",
   "display_name": "Python 3.9.5 64-bit"
  },
  "interpreter": {
   "hash": "36cf16204b8548560b1c020c4e8fb5b57f0e4c58016f52f2d4be01e192833930"
  }
 },
 "nbformat": 4,
 "nbformat_minor": 2
}